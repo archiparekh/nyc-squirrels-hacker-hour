{
 "cells": [
  {
   "attachments": {},
   "cell_type": "markdown",
   "metadata": {},
   "source": [
    "# What are the squirrels in NYC up to?"
   ]
  },
  {
   "cell_type": "code",
   "execution_count": 1,
   "metadata": {},
   "outputs": [],
   "source": [
    "import pandas as pd\n",
    "import numpy as np\n",
    "import datetime\n",
    "import json"
   ]
  },
  {
   "cell_type": "code",
   "execution_count": 144,
   "metadata": {},
   "outputs": [
    {
     "data": {
      "text/plain": [
       "3023"
      ]
     },
     "execution_count": 144,
     "metadata": {},
     "output_type": "execute_result"
    }
   ],
   "source": [
    "squirrel_df = pd.read_csv(\"Squirrel_Census.csv\")\n",
    "len(squirrel_df)"
   ]
  },
  {
   "attachments": {},
   "cell_type": "markdown",
   "metadata": {},
   "source": [
    "### Understanding the dataset"
   ]
  },
  {
   "cell_type": "code",
   "execution_count": 18,
   "metadata": {},
   "outputs": [
    {
     "data": {
      "text/plain": [
       "Index(['X', 'Y', 'Unique Squirrel ID', 'Hectare', 'Shift', 'Date',\n",
       "       'Hectare Squirrel Number', 'Age', 'Primary Fur Color',\n",
       "       'Highlight Fur Color', 'Combination of Primary and Highlight Color',\n",
       "       'Color notes', 'Location', 'Above Ground Sighter Measurement',\n",
       "       'Specific Location', 'Running', 'Chasing', 'Climbing', 'Eating',\n",
       "       'Foraging', 'Other Activities', 'Kuks', 'Quaas', 'Moans', 'Tail flags',\n",
       "       'Tail twitches', 'Approaches', 'Indifferent', 'Runs from',\n",
       "       'Other Interactions', 'Lat/Long'],\n",
       "      dtype='object')"
      ]
     },
     "execution_count": 18,
     "metadata": {},
     "output_type": "execute_result"
    }
   ],
   "source": [
    "squirrel_df.columns"
   ]
  },
  {
   "cell_type": "code",
   "execution_count": 63,
   "metadata": {},
   "outputs": [
    {
     "name": "stdout",
     "output_type": "stream",
     "text": [
      "<class 'pandas.core.frame.DataFrame'>\n",
      "RangeIndex: 3023 entries, 0 to 3022\n",
      "Data columns (total 31 columns):\n",
      " #   Column                                      Non-Null Count  Dtype  \n",
      "---  ------                                      --------------  -----  \n",
      " 0   X                                           3023 non-null   float64\n",
      " 1   Y                                           3023 non-null   float64\n",
      " 2   Unique Squirrel ID                          3023 non-null   object \n",
      " 3   Hectare                                     3023 non-null   object \n",
      " 4   Shift                                       3023 non-null   object \n",
      " 5   Date                                        3023 non-null   int64  \n",
      " 6   Hectare Squirrel Number                     3023 non-null   int64  \n",
      " 7   Age                                         2902 non-null   object \n",
      " 8   Primary Fur Color                           2968 non-null   object \n",
      " 9   Highlight Fur Color                         1937 non-null   object \n",
      " 10  Combination of Primary and Highlight Color  3023 non-null   object \n",
      " 11  Color notes                                 182 non-null    object \n",
      " 12  Location                                    2959 non-null   object \n",
      " 13  Above Ground Sighter Measurement            2909 non-null   object \n",
      " 14  Specific Location                           476 non-null    object \n",
      " 15  Running                                     3023 non-null   bool   \n",
      " 16  Chasing                                     3023 non-null   bool   \n",
      " 17  Climbing                                    3023 non-null   bool   \n",
      " 18  Eating                                      3023 non-null   bool   \n",
      " 19  Foraging                                    3023 non-null   bool   \n",
      " 20  Other Activities                            437 non-null    object \n",
      " 21  Kuks                                        3023 non-null   bool   \n",
      " 22  Quaas                                       3023 non-null   bool   \n",
      " 23  Moans                                       3023 non-null   bool   \n",
      " 24  Tail flags                                  3023 non-null   bool   \n",
      " 25  Tail twitches                               3023 non-null   bool   \n",
      " 26  Approaches                                  3023 non-null   bool   \n",
      " 27  Indifferent                                 3023 non-null   bool   \n",
      " 28  Runs from                                   3023 non-null   bool   \n",
      " 29  Other Interactions                          240 non-null    object \n",
      " 30  Lat/Long                                    3023 non-null   object \n",
      "dtypes: bool(13), float64(2), int64(2), object(14)\n",
      "memory usage: 463.6+ KB\n"
     ]
    }
   ],
   "source": [
    "squirrel_df.info()"
   ]
  },
  {
   "cell_type": "code",
   "execution_count": 106,
   "metadata": {},
   "outputs": [
    {
     "data": {
      "text/plain": [
       "array(['37F', '21B', '11B', '32E', '13E', '11H', '36H', '33F', '21C',\n",
       "       '11D', '20B', '22F', '36I', '05C', '07H', '16C', '14E', '32A',\n",
       "       '17F', '16I', '12I', '32F', '25A', '15E', '39G', '29I', '07E',\n",
       "       '17C', '10A', '28A', '12B', '18A', '33H', '29C', '38C', '31H',\n",
       "       '08H', '34F', '13H', '35C', '17E', '02B', '19D', '40B', '03E',\n",
       "       '39C', '06G', '14F', '06I', '15F', '08B', '03A', '05E', '05F',\n",
       "       '16E', '13F', '29H', '23C', '33C', '38G', '16G', '35A', '28C',\n",
       "       '32D', '22A', '19C', '15G', '10F', '42E', '22B', '05A', '32H',\n",
       "       '42C', '41D', '21G', '07F', '38F', '41B', '36A', '31A', '42G',\n",
       "       '37D', '37E', '24B', '07G', '15I', '19B', '13D', '35B', '40D',\n",
       "       '38B', '40I', '07B', '40A', '03B', '21D', '10B', '41A', '02F',\n",
       "       '26A', '35E', '11G', '07A', '03D', '35D', '18G', '06F', '09F',\n",
       "       '38E', '33G', '32G', '04D', '06H', '15D', '39H', '20F', '09G',\n",
       "       '05D', '23F', '39A', '13A', '10G', '13C', '32C', '31D', '18C',\n",
       "       '40E', '04G', '12F', '17H', '03G', '15H', '14G', '42H', '38A',\n",
       "       '22C', '36F', '05I', '16D', '06D', '12E', '14D', '22D', '08A',\n",
       "       '02D', '12C', '08F', '02H', '32B', '04E', '14A', '09B', '08C',\n",
       "       '06B', '39B', '03C', '38D', '10C', '26I', '01B', '09A', '37H',\n",
       "       '06A', '32I', '02E', '04B', '31F', '23D', '30B', '04F', '33I',\n",
       "       '37C', '33B', '37I', '37G', '20A', '15A', '16F', '01G', '37B',\n",
       "       '03I', '12G', '10I', '19H', '34I', '12A', '19F', '20C', '36E',\n",
       "       '28D', '21E', '39F', '27A', '18D', '27I', '14I', '01H', '30E',\n",
       "       '16A', '11E', '22I', '41C', '29B', '15B', '18I', '12D', '11F',\n",
       "       '34D', '20D', '21F', '33D', '08E', '33E', '31G', '02C', '04I',\n",
       "       '40C', '10H', '30D', '36C', '11I', '01D', '22G', '40G', '01C',\n",
       "       '07I', '14H', '08I', '13B', '34H', '04A', '42F', '41I', '12H',\n",
       "       '09C', '36B', '31E', '29D', '42D', '19G', '13I', '24A', '36D',\n",
       "       '42B', '41E', '18F', '16H', '09D', '07D', '08G', '04C', '23E',\n",
       "       '30A', '15C', '16B', '11A', '36G', '14C', '21H', '05G', '03F',\n",
       "       '42I', '14B', '01A', '09I', '18H', '26B', '28I', '01F', '31I',\n",
       "       '17A', '03H', '02A', '30I', '09E', '39D', '34E', '17D', '21A',\n",
       "       '13G', '35F', '38I', '09H', '30C', '19E', '08D', '04H', '23B',\n",
       "       '20G', '17G', '35G', '02I', '10D', '17I', '42A', '34B', '17B',\n",
       "       '11C', '33A', '31B', '25I', '37A', '01E', '22H', '34A', '19A',\n",
       "       '06C', '07C', '05B', '23A', '02G', '35H', '06E', '41G', '40H',\n",
       "       '39I', '23I', '31C', '29A', '22E', '41F', '28B', '35I', '24I',\n",
       "       '23H', '34C', '39E', '01I', '18E', '27B', '34G', '05H', '40F',\n",
       "       '30H', '10E', '25B', '20E', '38H', '30F'], dtype=object)"
      ]
     },
     "execution_count": 106,
     "metadata": {},
     "output_type": "execute_result"
    }
   ],
   "source": [
    "squirrel_df[\"Hectare\"].unique()"
   ]
  },
  {
   "cell_type": "code",
   "execution_count": 107,
   "metadata": {},
   "outputs": [
    {
     "data": {
      "text/plain": [
       "array([nan, 'Gray', 'Cinnamon', 'Black'], dtype=object)"
      ]
     },
     "execution_count": 107,
     "metadata": {},
     "output_type": "execute_result"
    }
   ],
   "source": [
    "squirrel_df[\"Primary Fur Color\"].unique()\n",
    "# squirrel_df[\"Highlight Fur Color\"].unique()\n",
    "# squirrel_df[\"Color notes\"].unique()"
   ]
  },
  {
   "cell_type": "code",
   "execution_count": 109,
   "metadata": {},
   "outputs": [
    {
     "name": "stdout",
     "output_type": "stream",
     "text": [
      "grooming\n",
      "walking\n",
      "moving slowly\n",
      "sitting\n",
      "eating (ate upside down on a tree — #jealous)\n",
      "wrestling with mother\n",
      "running (with nut)\n",
      "playing with #5\n",
      "hiding nut\n",
      "drank from a pond of rain water\n",
      "sitting\n",
      "chasing (#4 across trees)\n",
      "gathering acorns\n",
      "eating (a mushroom),circles around us,really fat,scratching himself,grooming activity\n",
      "digging\n",
      "walking\n",
      "sitting\n",
      "walking on branch\n",
      "being chased,was pushed by other squirrel\n",
      "climbing (tree)\n",
      "chasing #8\n",
      "still\n",
      "stop to look at me—then ran\n",
      "chasing (a chipmunk)\n",
      "took nut to bury\n",
      "flying\n",
      "stole (found?) an entire sandwich\n",
      "walking w/ something in mouth\n",
      "burying nut\n",
      "begging\n",
      "was hanging out w/ #2 until i showed up\n",
      "quietly\n",
      "nest building\n",
      "burying\n",
      "dead (something ran over it)\n",
      "chased #12\n"
     ]
    }
   ],
   "source": [
    "# in Java\n",
    "for i in range(150):\n",
    "    field = squirrel_df.iloc[i][\"Other Activities\"]\n",
    "    if field == field:\n",
    "        print(field)"
   ]
  },
  {
   "cell_type": "code",
   "execution_count": null,
   "metadata": {},
   "outputs": [],
   "source": [
    "i=0\n",
    "i+=20\n",
    "# squirrel_df[~squirrel_df[\"Other Activities\"].isna()][\"Other Activities\"].iloc[i:i+20]\n",
    "squirrel_df[~squirrel_df[\"Other Interactions\"].isna()][\"Other Interactions\"].iloc[i:i+20]"
   ]
  },
  {
   "attachments": {},
   "cell_type": "markdown",
   "metadata": {},
   "source": [
    "### Data Cleaning"
   ]
  },
  {
   "cell_type": "code",
   "execution_count": 110,
   "metadata": {},
   "outputs": [
    {
     "data": {
      "text/plain": [
       "0       10142018\n",
       "1       10192018\n",
       "2       10142018\n",
       "3       10172018\n",
       "4       10172018\n",
       "          ...   \n",
       "3018    10072018\n",
       "3019    10132018\n",
       "3020    10122018\n",
       "3021    10102018\n",
       "3022    10122018\n",
       "Name: Date, Length: 3023, dtype: int64"
      ]
     },
     "execution_count": 110,
     "metadata": {},
     "output_type": "execute_result"
    }
   ],
   "source": [
    "# dates. \n",
    "squirrel_df[\"Date\"]"
   ]
  },
  {
   "cell_type": "code",
   "execution_count": 118,
   "metadata": {},
   "outputs": [],
   "source": [
    "def easy_convert_date(orig):\n",
    "    orig = str(orig)\n",
    "    month = int(orig[0:2])\n",
    "    day = int(orig[2:4])\n",
    "    year = 2018\n",
    "    return datetime.date(year, month, day).strftime(\"%m/%d/%Y\")\n",
    "\n",
    "squirrel_df[\"date_string\"] = squirrel_df.Date.apply(easy_convert_date)"
   ]
  },
  {
   "cell_type": "code",
   "execution_count": 121,
   "metadata": {},
   "outputs": [],
   "source": [
    "# squirrel_df[\"date_month\"] = squirrel_df[\"Date\"].apply(lambda x: int(str(x)[0:2]))\n",
    "# squirrel_df[\"date_day\"] = squirrel_df[\"Date\"].apply(lambda x: int(str(x)[2:4]))\n",
    "# squirrel_df[\"date_year\"] = 2018"
   ]
  },
  {
   "cell_type": "code",
   "execution_count": 127,
   "metadata": {},
   "outputs": [
    {
     "name": "stdout",
     "output_type": "stream",
     "text": [
      "6\n",
      "20\n"
     ]
    }
   ],
   "source": [
    "print(squirrel_df.date_day.min())\n",
    "print(squirrel_df.date_day.max())"
   ]
  },
  {
   "cell_type": "code",
   "execution_count": 134,
   "metadata": {},
   "outputs": [
    {
     "data": {
      "text/plain": [
       "array(['10/06/2018', '10/07/2018', '10/08/2018', '10/10/2018',\n",
       "       '10/12/2018', '10/13/2018', '10/14/2018', '10/17/2018',\n",
       "       '10/18/2018', '10/19/2018', '10/20/2018'], dtype=object)"
      ]
     },
     "execution_count": 134,
     "metadata": {},
     "output_type": "execute_result"
    }
   ],
   "source": [
    "squirrel_df.date_string.sort_values().unique()"
   ]
  },
  {
   "cell_type": "code",
   "execution_count": 145,
   "metadata": {},
   "outputs": [
    {
     "data": {
      "text/plain": [
       "1260      chasing #5\n",
       "1811             NaN\n",
       "2816             NaN\n",
       "1302    chasing (#3)\n",
       "454              NaN\n",
       "1773             NaN\n",
       "2249             NaN\n",
       "692              NaN\n",
       "1954             NaN\n",
       "533              NaN\n",
       "Name: Other Activities, dtype: object"
      ]
     },
     "execution_count": 145,
     "metadata": {},
     "output_type": "execute_result"
    }
   ],
   "source": [
    "# text cleaning\n",
    "squirrel_df[\"Other Activities\"].sample(10)"
   ]
  },
  {
   "cell_type": "code",
   "execution_count": 166,
   "metadata": {},
   "outputs": [],
   "source": [
    "from cleantext.sklearn import CleanTransformer\n",
    "\n",
    "cleaner = CleanTransformer(no_punct=True,\n",
    "                           lower=True, \n",
    "                           no_emoji=True, \n",
    "                           no_line_breaks=True, \n",
    "                           no_urls=True, \n",
    "                           normalize_whitespace=True,\n",
    "                           to_ascii=False)"
   ]
  },
  {
   "cell_type": "code",
   "execution_count": 197,
   "metadata": {},
   "outputs": [],
   "source": [
    "text_columns = [\"Other Activities\", \"Other Interactions\"]\n",
    "for col in text_columns:\n",
    "    new_col = f\"{col}_clean\"\n",
    "    squirrel_df[new_col] = cleaner.transform(squirrel_df[col].str.replace(\"-\", \" \").fillna(\"\"))"
   ]
  },
  {
   "cell_type": "code",
   "execution_count": 219,
   "metadata": {},
   "outputs": [
    {
     "data": {
      "text/plain": [
       "2204           \n",
       "26             \n",
       "469            \n",
       "2466           \n",
       "683            \n",
       "502     peanuts\n",
       "2557           \n",
       "291            \n",
       "381            \n",
       "1998           \n",
       "Name: Other Activities_clean, dtype: object"
      ]
     },
     "execution_count": 219,
     "metadata": {},
     "output_type": "execute_result"
    }
   ],
   "source": [
    "# 1332\n",
    "squirrel_df[\"Other Activities_clean\"].sample(10)"
   ]
  },
  {
   "attachments": {},
   "cell_type": "markdown",
   "metadata": {},
   "source": [
    "### EDA"
   ]
  },
  {
   "cell_type": "code",
   "execution_count": null,
   "metadata": {},
   "outputs": [],
   "source": [
    "# How many squirrels per hectacre? \n",
    "# What activities are they engaging in?\n",
    "# What activities do they do together?"
   ]
  },
  {
   "cell_type": "code",
   "execution_count": null,
   "metadata": {},
   "outputs": [],
   "source": [
    "# squirrel_df.groupby(\"Hectare\").count()\n",
    "# squirrel_df.groupby(\"Hectare\").count().sort_values(by=\"Hectare Squirrel Number\", ascending=False).X.plot(kind=\"hist\")"
   ]
  },
  {
   "cell_type": "code",
   "execution_count": 230,
   "metadata": {},
   "outputs": [],
   "source": [
    "activities = squirrel_df.columns[15:20]\n",
    "sounds = squirrel_df.columns[21:24]\n",
    "tails = squirrel_df.columns[24:26]\n",
    "interactions = squirrel_df.columns[26:29]"
   ]
  },
  {
   "cell_type": "code",
   "execution_count": 232,
   "metadata": {},
   "outputs": [
    {
     "name": "stdout",
     "output_type": "stream",
     "text": [
      "Index(['Running', 'Chasing', 'Climbing', 'Eating', 'Foraging'], dtype='object')\n",
      "Index(['Kuks', 'Quaas', 'Moans'], dtype='object')\n",
      "Index(['Tail flags', 'Tail twitches'], dtype='object')\n",
      "Index(['Approaches', 'Indifferent', 'Runs from'], dtype='object')\n"
     ]
    }
   ],
   "source": [
    "print(activities)\n",
    "print(sounds)\n",
    "print(tails)\n",
    "print(interactions)"
   ]
  },
  {
   "cell_type": "code",
   "execution_count": 245,
   "metadata": {},
   "outputs": [
    {
     "data": {
      "text/html": [
       "<div>\n",
       "<style scoped>\n",
       "    .dataframe tbody tr th:only-of-type {\n",
       "        vertical-align: middle;\n",
       "    }\n",
       "\n",
       "    .dataframe tbody tr th {\n",
       "        vertical-align: top;\n",
       "    }\n",
       "\n",
       "    .dataframe thead th {\n",
       "        text-align: right;\n",
       "    }\n",
       "</style>\n",
       "<table border=\"1\" class=\"dataframe\">\n",
       "  <thead>\n",
       "    <tr style=\"text-align: right;\">\n",
       "      <th></th>\n",
       "      <th>activity</th>\n",
       "      <th>counts</th>\n",
       "    </tr>\n",
       "  </thead>\n",
       "  <tbody>\n",
       "    <tr>\n",
       "      <th>0</th>\n",
       "      <td>Running</td>\n",
       "      <td>730</td>\n",
       "    </tr>\n",
       "    <tr>\n",
       "      <th>1</th>\n",
       "      <td>Chasing</td>\n",
       "      <td>279</td>\n",
       "    </tr>\n",
       "    <tr>\n",
       "      <th>2</th>\n",
       "      <td>Climbing</td>\n",
       "      <td>658</td>\n",
       "    </tr>\n",
       "    <tr>\n",
       "      <th>3</th>\n",
       "      <td>Eating</td>\n",
       "      <td>760</td>\n",
       "    </tr>\n",
       "    <tr>\n",
       "      <th>4</th>\n",
       "      <td>Foraging</td>\n",
       "      <td>1435</td>\n",
       "    </tr>\n",
       "  </tbody>\n",
       "</table>\n",
       "</div>"
      ],
      "text/plain": [
       "   activity  counts\n",
       "0   Running     730\n",
       "1   Chasing     279\n",
       "2  Climbing     658\n",
       "3    Eating     760\n",
       "4  Foraging    1435"
      ]
     },
     "execution_count": 245,
     "metadata": {},
     "output_type": "execute_result"
    }
   ],
   "source": [
    "activity_counts = [len(squirrel_df[squirrel_df[col]]) for col in activities]\n",
    "df = pd.DataFrame({\"activity\": activities, \"counts\": activity_counts})\n",
    "df"
   ]
  },
  {
   "cell_type": "code",
   "execution_count": 257,
   "metadata": {},
   "outputs": [
    {
     "data": {
      "text/plain": [
       "Text(0, 0.5, 'Number of Squirrels')"
      ]
     },
     "execution_count": 257,
     "metadata": {},
     "output_type": "execute_result"
    },
    {
     "data": {
      "image/png": "[encoded data removed]",
      "text/plain": [
       "<Figure size 640x480 with 1 Axes>"
      ]
     },
     "metadata": {},
     "output_type": "display_data"
    }
   ],
   "source": [
    "import matplotlib.pyplot as plt\n",
    "plt.bar(x = df.activity, height = df.counts)\n",
    "plt.xlabel(\"Activity\")\n",
    "plt.ylabel(\"Number of Squirrels\")\n",
    "plt.title(\"Number of Squirrels\")"
   ]
  },
  {
   "cell_type": "code",
   "execution_count": 262,
   "metadata": {},
   "outputs": [
    {
     "data": {
      "text/plain": [
       "Text(0.5, 1.0, 'Number of Squirrels doing each sound')"
      ]
     },
     "execution_count": 262,
     "metadata": {},
     "output_type": "execute_result"
    },
    {
     "data": {
      "image/png": "[encoded data removed]",
      "text/plain": [
       "<Figure size 640x480 with 1 Axes>"
      ]
     },
     "metadata": {},
     "output_type": "display_data"
    }
   ],
   "source": [
    "counts = [len(squirrel_df[squirrel_df[col]]) for col in sounds]\n",
    "df = pd.DataFrame({\"action\": sounds, \"counts\": counts})\n",
    "plt.bar(x = df.action, height = df.counts)\n",
    "plt.xlabel(\"Activity\")\n",
    "plt.ylabel(\"Number of Squirrels\")\n",
    "plt.title(\"Number of Squirrels doing each sound\")"
   ]
  },
  {
   "cell_type": "code",
   "execution_count": 263,
   "metadata": {},
   "outputs": [
    {
     "data": {
      "text/plain": [
       "Text(0.5, 1.0, 'Number of Squirrels doing each tail motion')"
      ]
     },
     "execution_count": 263,
     "metadata": {},
     "output_type": "execute_result"
    },
    {
     "data": {
      "image/png": "[encoded data removed]",
      "text/plain": [
       "<Figure size 640x480 with 1 Axes>"
      ]
     },
     "metadata": {},
     "output_type": "display_data"
    }
   ],
   "source": [
    "counts = [len(squirrel_df[squirrel_df[col]]) for col in tails]\n",
    "df = pd.DataFrame({\"action\": tails, \"counts\": counts})\n",
    "plt.bar(x = df.action, height = df.counts)\n",
    "plt.xlabel(\"Activity\")\n",
    "plt.ylabel(\"Number of Squirrels\")\n",
    "plt.title(\"Number of Squirrels doing each tail motion\")"
   ]
  },
  {
   "cell_type": "code",
   "execution_count": 264,
   "metadata": {},
   "outputs": [
    {
     "data": {
      "text/plain": [
       "Text(0.5, 1.0, 'Number of Squirrels doing each interaction')"
      ]
     },
     "execution_count": 264,
     "metadata": {},
     "output_type": "execute_result"
    },
    {
     "data": {
      "image/png": "[encoded data removed]",
      "text/plain": [
       "<Figure size 640x480 with 1 Axes>"
      ]
     },
     "metadata": {},
     "output_type": "display_data"
    }
   ],
   "source": [
    "counts = [len(squirrel_df[squirrel_df[col]]) for col in interactions]\n",
    "df = pd.DataFrame({\"action\": interactions, \"counts\": counts})\n",
    "plt.bar(x = df.action, height = df.counts)\n",
    "plt.xlabel(\"Activity\")\n",
    "plt.ylabel(\"Number of Squirrels\")\n",
    "plt.title(\"Number of Squirrels doing each interaction\")"
   ]
  },
  {
   "cell_type": "code",
   "execution_count": 274,
   "metadata": {},
   "outputs": [],
   "source": [
    "# are there any activities frequently done together?\n",
    "all_cols = np.concatenate([activities, sounds, tails, interactions])"
   ]
  },
  {
   "cell_type": "code",
   "execution_count": 303,
   "metadata": {},
   "outputs": [
    {
     "data": {
      "text/html": [
       "<div>\n",
       "<style scoped>\n",
       "    .dataframe tbody tr th:only-of-type {\n",
       "        vertical-align: middle;\n",
       "    }\n",
       "\n",
       "    .dataframe tbody tr th {\n",
       "        vertical-align: top;\n",
       "    }\n",
       "\n",
       "    .dataframe thead th {\n",
       "        text-align: right;\n",
       "    }\n",
       "</style>\n",
       "<table border=\"1\" class=\"dataframe\">\n",
       "  <thead>\n",
       "    <tr style=\"text-align: right;\">\n",
       "      <th></th>\n",
       "      <th>Running</th>\n",
       "      <th>Chasing</th>\n",
       "      <th>Climbing</th>\n",
       "      <th>Eating</th>\n",
       "      <th>Foraging</th>\n",
       "      <th>Kuks</th>\n",
       "      <th>Quaas</th>\n",
       "      <th>Moans</th>\n",
       "      <th>Tail flags</th>\n",
       "      <th>Tail twitches</th>\n",
       "      <th>Approaches</th>\n",
       "      <th>Indifferent</th>\n",
       "      <th>Runs from</th>\n",
       "    </tr>\n",
       "  </thead>\n",
       "  <tbody>\n",
       "    <tr>\n",
       "      <th>Running</th>\n",
       "      <td>1.000000</td>\n",
       "      <td>0.105479</td>\n",
       "      <td>0.176712</td>\n",
       "      <td>0.156164</td>\n",
       "      <td>0.279452</td>\n",
       "      <td>0.031507</td>\n",
       "      <td>0.013699</td>\n",
       "      <td>0.000000</td>\n",
       "      <td>0.058904</td>\n",
       "      <td>0.161644</td>\n",
       "      <td>0.052055</td>\n",
       "      <td>0.378082</td>\n",
       "      <td>0.347945</td>\n",
       "    </tr>\n",
       "    <tr>\n",
       "      <th>Chasing</th>\n",
       "      <td>0.275986</td>\n",
       "      <td>1.000000</td>\n",
       "      <td>0.168459</td>\n",
       "      <td>0.107527</td>\n",
       "      <td>0.193548</td>\n",
       "      <td>0.068100</td>\n",
       "      <td>0.053763</td>\n",
       "      <td>0.003584</td>\n",
       "      <td>0.082437</td>\n",
       "      <td>0.168459</td>\n",
       "      <td>0.028674</td>\n",
       "      <td>0.476703</td>\n",
       "      <td>0.143369</td>\n",
       "    </tr>\n",
       "    <tr>\n",
       "      <th>Climbing</th>\n",
       "      <td>0.196049</td>\n",
       "      <td>0.071429</td>\n",
       "      <td>1.000000</td>\n",
       "      <td>0.159574</td>\n",
       "      <td>0.193009</td>\n",
       "      <td>0.062310</td>\n",
       "      <td>0.021277</td>\n",
       "      <td>0.003040</td>\n",
       "      <td>0.047112</td>\n",
       "      <td>0.129179</td>\n",
       "      <td>0.041033</td>\n",
       "      <td>0.414894</td>\n",
       "      <td>0.262918</td>\n",
       "    </tr>\n",
       "    <tr>\n",
       "      <th>Eating</th>\n",
       "      <td>0.150000</td>\n",
       "      <td>0.039474</td>\n",
       "      <td>0.138158</td>\n",
       "      <td>1.000000</td>\n",
       "      <td>0.467105</td>\n",
       "      <td>0.025000</td>\n",
       "      <td>0.007895</td>\n",
       "      <td>0.000000</td>\n",
       "      <td>0.052632</td>\n",
       "      <td>0.172368</td>\n",
       "      <td>0.088158</td>\n",
       "      <td>0.540789</td>\n",
       "      <td>0.215789</td>\n",
       "    </tr>\n",
       "    <tr>\n",
       "      <th>Foraging</th>\n",
       "      <td>0.142160</td>\n",
       "      <td>0.037631</td>\n",
       "      <td>0.088502</td>\n",
       "      <td>0.247387</td>\n",
       "      <td>1.000000</td>\n",
       "      <td>0.018815</td>\n",
       "      <td>0.011847</td>\n",
       "      <td>0.000697</td>\n",
       "      <td>0.045993</td>\n",
       "      <td>0.165157</td>\n",
       "      <td>0.072474</td>\n",
       "      <td>0.550523</td>\n",
       "      <td>0.199303</td>\n",
       "    </tr>\n",
       "    <tr>\n",
       "      <th>Kuks</th>\n",
       "      <td>0.225490</td>\n",
       "      <td>0.186275</td>\n",
       "      <td>0.401961</td>\n",
       "      <td>0.186275</td>\n",
       "      <td>0.264706</td>\n",
       "      <td>1.000000</td>\n",
       "      <td>0.147059</td>\n",
       "      <td>0.000000</td>\n",
       "      <td>0.127451</td>\n",
       "      <td>0.137255</td>\n",
       "      <td>0.039216</td>\n",
       "      <td>0.323529</td>\n",
       "      <td>0.303922</td>\n",
       "    </tr>\n",
       "    <tr>\n",
       "      <th>Quaas</th>\n",
       "      <td>0.200000</td>\n",
       "      <td>0.300000</td>\n",
       "      <td>0.280000</td>\n",
       "      <td>0.120000</td>\n",
       "      <td>0.340000</td>\n",
       "      <td>0.300000</td>\n",
       "      <td>1.000000</td>\n",
       "      <td>0.020000</td>\n",
       "      <td>0.160000</td>\n",
       "      <td>0.140000</td>\n",
       "      <td>0.000000</td>\n",
       "      <td>0.340000</td>\n",
       "      <td>0.180000</td>\n",
       "    </tr>\n",
       "    <tr>\n",
       "      <th>Moans</th>\n",
       "      <td>0.000000</td>\n",
       "      <td>0.333333</td>\n",
       "      <td>0.666667</td>\n",
       "      <td>0.000000</td>\n",
       "      <td>0.333333</td>\n",
       "      <td>0.000000</td>\n",
       "      <td>0.333333</td>\n",
       "      <td>1.000000</td>\n",
       "      <td>0.000000</td>\n",
       "      <td>0.000000</td>\n",
       "      <td>0.000000</td>\n",
       "      <td>0.000000</td>\n",
       "      <td>0.666667</td>\n",
       "    </tr>\n",
       "    <tr>\n",
       "      <th>Tail flags</th>\n",
       "      <td>0.277419</td>\n",
       "      <td>0.148387</td>\n",
       "      <td>0.200000</td>\n",
       "      <td>0.258065</td>\n",
       "      <td>0.425806</td>\n",
       "      <td>0.083871</td>\n",
       "      <td>0.051613</td>\n",
       "      <td>0.000000</td>\n",
       "      <td>1.000000</td>\n",
       "      <td>0.129032</td>\n",
       "      <td>0.064516</td>\n",
       "      <td>0.535484</td>\n",
       "      <td>0.322581</td>\n",
       "    </tr>\n",
       "    <tr>\n",
       "      <th>Tail twitches</th>\n",
       "      <td>0.271889</td>\n",
       "      <td>0.108295</td>\n",
       "      <td>0.195853</td>\n",
       "      <td>0.301843</td>\n",
       "      <td>0.546083</td>\n",
       "      <td>0.032258</td>\n",
       "      <td>0.016129</td>\n",
       "      <td>0.000000</td>\n",
       "      <td>0.046083</td>\n",
       "      <td>1.000000</td>\n",
       "      <td>0.080645</td>\n",
       "      <td>0.476959</td>\n",
       "      <td>0.276498</td>\n",
       "    </tr>\n",
       "    <tr>\n",
       "      <th>Approaches</th>\n",
       "      <td>0.213483</td>\n",
       "      <td>0.044944</td>\n",
       "      <td>0.151685</td>\n",
       "      <td>0.376404</td>\n",
       "      <td>0.584270</td>\n",
       "      <td>0.022472</td>\n",
       "      <td>0.000000</td>\n",
       "      <td>0.000000</td>\n",
       "      <td>0.056180</td>\n",
       "      <td>0.196629</td>\n",
       "      <td>1.000000</td>\n",
       "      <td>0.106742</td>\n",
       "      <td>0.112360</td>\n",
       "    </tr>\n",
       "    <tr>\n",
       "      <th>Indifferent</th>\n",
       "      <td>0.189821</td>\n",
       "      <td>0.091472</td>\n",
       "      <td>0.187758</td>\n",
       "      <td>0.282669</td>\n",
       "      <td>0.543329</td>\n",
       "      <td>0.022696</td>\n",
       "      <td>0.011692</td>\n",
       "      <td>0.000000</td>\n",
       "      <td>0.057084</td>\n",
       "      <td>0.142366</td>\n",
       "      <td>0.013067</td>\n",
       "      <td>1.000000</td>\n",
       "      <td>0.022008</td>\n",
       "    </tr>\n",
       "    <tr>\n",
       "      <th>Runs from</th>\n",
       "      <td>0.374631</td>\n",
       "      <td>0.058997</td>\n",
       "      <td>0.255162</td>\n",
       "      <td>0.241888</td>\n",
       "      <td>0.421829</td>\n",
       "      <td>0.045723</td>\n",
       "      <td>0.013274</td>\n",
       "      <td>0.002950</td>\n",
       "      <td>0.073746</td>\n",
       "      <td>0.176991</td>\n",
       "      <td>0.029499</td>\n",
       "      <td>0.047198</td>\n",
       "      <td>1.000000</td>\n",
       "    </tr>\n",
       "  </tbody>\n",
       "</table>\n",
       "</div>"
      ],
      "text/plain": [
       "                Running   Chasing  Climbing    Eating  Foraging      Kuks  \\\n",
       "Running        1.000000  0.105479  0.176712  0.156164  0.279452  0.031507   \n",
       "Chasing        0.275986  1.000000  0.168459  0.107527  0.193548  0.068100   \n",
       "Climbing       0.196049  0.071429  1.000000  0.159574  0.193009  0.062310   \n",
       "Eating         0.150000  0.039474  0.138158  1.000000  0.467105  0.025000   \n",
       "Foraging       0.142160  0.037631  0.088502  0.247387  1.000000  0.018815   \n",
       "Kuks           0.225490  0.186275  0.401961  0.186275  0.264706  1.000000   \n",
       "Quaas          0.200000  0.300000  0.280000  0.120000  0.340000  0.300000   \n",
       "Moans          0.000000  0.333333  0.666667  0.000000  0.333333  0.000000   \n",
       "Tail flags     0.277419  0.148387  0.200000  0.258065  0.425806  0.083871   \n",
       "Tail twitches  0.271889  0.108295  0.195853  0.301843  0.546083  0.032258   \n",
       "Approaches     0.213483  0.044944  0.151685  0.376404  0.584270  0.022472   \n",
       "Indifferent    0.189821  0.091472  0.187758  0.282669  0.543329  0.022696   \n",
       "Runs from      0.374631  0.058997  0.255162  0.241888  0.421829  0.045723   \n",
       "\n",
       "                  Quaas     Moans  Tail flags  Tail twitches  Approaches  \\\n",
       "Running        0.013699  0.000000    0.058904       0.161644    0.052055   \n",
       "Chasing        0.053763  0.003584    0.082437       0.168459    0.028674   \n",
       "Climbing       0.021277  0.003040    0.047112       0.129179    0.041033   \n",
       "Eating         0.007895  0.000000    0.052632       0.172368    0.088158   \n",
       "Foraging       0.011847  0.000697    0.045993       0.165157    0.072474   \n",
       "Kuks           0.147059  0.000000    0.127451       0.137255    0.039216   \n",
       "Quaas          1.000000  0.020000    0.160000       0.140000    0.000000   \n",
       "Moans          0.333333  1.000000    0.000000       0.000000    0.000000   \n",
       "Tail flags     0.051613  0.000000    1.000000       0.129032    0.064516   \n",
       "Tail twitches  0.016129  0.000000    0.046083       1.000000    0.080645   \n",
       "Approaches     0.000000  0.000000    0.056180       0.196629    1.000000   \n",
       "Indifferent    0.011692  0.000000    0.057084       0.142366    0.013067   \n",
       "Runs from      0.013274  0.002950    0.073746       0.176991    0.029499   \n",
       "\n",
       "               Indifferent  Runs from  \n",
       "Running           0.378082   0.347945  \n",
       "Chasing           0.476703   0.143369  \n",
       "Climbing          0.414894   0.262918  \n",
       "Eating            0.540789   0.215789  \n",
       "Foraging          0.550523   0.199303  \n",
       "Kuks              0.323529   0.303922  \n",
       "Quaas             0.340000   0.180000  \n",
       "Moans             0.000000   0.666667  \n",
       "Tail flags        0.535484   0.322581  \n",
       "Tail twitches     0.476959   0.276498  \n",
       "Approaches        0.106742   0.112360  \n",
       "Indifferent       1.000000   0.022008  \n",
       "Runs from         0.047198   1.000000  "
      ]
     },
     "execution_count": 303,
     "metadata": {},
     "output_type": "execute_result"
    }
   ],
   "source": [
    "overlap_lists = []\n",
    "for i, col in enumerate(all_cols):\n",
    "    row_overlap = []\n",
    "    col_i = all_cols[i]\n",
    "    for j, col in enumerate(all_cols):\n",
    "        col_j = all_cols[j]\n",
    "        # val = len(squirrel_df[(squirrel_df[col_i] == True) & (squirrel_df[col_j] == True)])\n",
    "        val = len(squirrel_df[(squirrel_df[col_i] == True) & (squirrel_df[col_j] == True)]) / len(squirrel_df[(squirrel_df[col_i] == True)])\n",
    "        row_overlap.append(val)\n",
    "    overlap_lists.append(row_overlap)\n",
    "\n",
    "overlapdf = pd.DataFrame(overlap_lists, index=all_cols, columns=all_cols)\n",
    "overlapdf"
   ]
  },
  {
   "cell_type": "code",
   "execution_count": 304,
   "metadata": {},
   "outputs": [
    {
     "data": {
      "text/plain": [
       "<AxesSubplot: >"
      ]
     },
     "execution_count": 304,
     "metadata": {},
     "output_type": "execute_result"
    },
    {
     "data": {
      "image/png": "[encoded data removed]",
      "text/plain": [
       "<Figure size 640x480 with 2 Axes>"
      ]
     },
     "metadata": {},
     "output_type": "display_data"
    }
   ],
   "source": [
    "sns.heatmap(overlapdf, linewidth=.5, cmap=\"crest\")\n",
    "# sns.heatmap(overlapdf, annot=True,linewidth=.5, cmap=\"crest\")"
   ]
  },
  {
   "cell_type": "code",
   "execution_count": 301,
   "metadata": {},
   "outputs": [
    {
     "data": {
      "text/plain": [
       "<AxesSubplot: >"
      ]
     },
     "execution_count": 301,
     "metadata": {},
     "output_type": "execute_result"
    },
    {
     "data": {
      "image/png": "[encoded data removed]",
      "text/plain": [
       "<Figure size 640x480 with 2 Axes>"
      ]
     },
     "metadata": {},
     "output_type": "display_data"
    }
   ],
   "source": [
    "cols = np.concatenate([interactions, tails])\n",
    "# cols = np.concatenate([activities, interactions])\n",
    "overlap_lists = []\n",
    "for i, col in enumerate(cols):\n",
    "    row_overlap = []\n",
    "    col_i = all_cols[i]\n",
    "    for j, col in enumerate(cols):\n",
    "        col_j = all_cols[j]\n",
    "        # val = len(squirrel_df[(squirrel_df[col_i] == True) & (squirrel_df[col_j] == True)])\n",
    "        val = len(squirrel_df[(squirrel_df[col_i] == True) & (squirrel_df[col_j] == True)]) / len(squirrel_df[(squirrel_df[col_i] == True)])\n",
    "        row_overlap.append(val)\n",
    "    overlap_lists.append(row_overlap)\n",
    "\n",
    "overlapdf = pd.DataFrame(overlap_lists, index=cols, columns=cols)\n",
    "sns.heatmap(overlapdf, annot=True,linewidth=.5, cmap=\"crest\")"
   ]
  },
  {
   "cell_type": "code",
   "execution_count": 320,
   "metadata": {},
   "outputs": [
    {
     "name": "stdout",
     "output_type": "stream",
     "text": [
      "Squirrels hang out with other squirrels 19.0 % of the time\n"
     ]
    }
   ],
   "source": [
    "# how often to squirrels hang out with their friends?\n",
    "# squirrel_df[\"Other Activities\"].str.contains(\"\\d\").value_counts()\n",
    "# squirrel_df[squirrel_df[\"Other Interactions\"].str.contains(\"\\d\").fillna(False)][\"Other Interactions\"]\n",
    "# squirrel_df[squirrel_df[\"Other Activities\"].str.contains(\"\\d\").fillna(False)][\"Other Activities\"]\n",
    "num_hangouts = len(squirrel_df[squirrel_df[\"Other Activities\"].str.contains(\"\\d\").fillna(False)])\n",
    "percent_hangouts = round((num_hangouts / len(squirrel_df[~squirrel_df[\"Other Activities\"].isna()])), 2) *100\n",
    "print(f\"Squirrels hang out with other squirrels {percent_hangouts} % of the time\")"
   ]
  }
 ],
 "metadata": {
  "kernelspec": {
   "display_name": "Python 3",
   "language": "python",
   "name": "python3"
  },
  "language_info": {
   "codemirror_mode": {
    "name": "ipython",
    "version": 3
   },
   "file_extension": ".py",
   "mimetype": "text/x-python",
   "name": "python",
   "nbconvert_exporter": "python",
   "pygments_lexer": "ipython3",
   "version": "3.11.1"
  },
  "orig_nbformat": 4
 },
 "nbformat": 4,
 "nbformat_minor": 2
}
