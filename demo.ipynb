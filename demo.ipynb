{
 "cells": [
  {
   "attachments": {},
   "cell_type": "markdown",
   "metadata": {},
   "source": [
    "# What are the squirrels in NYC up to?"
   ]
  },
  {
   "cell_type": "code",
   "execution_count": null,
   "metadata": {},
   "outputs": [],
   "source": [
    "import pandas as pd\n",
    "import numpy as np\n",
    "import datetime\n",
    "import json"
   ]
  },
  {
   "cell_type": "code",
   "execution_count": null,
   "metadata": {},
   "outputs": [],
   "source": [
    "squirrel_df = pd.read_csv(\"Squirrel_Census.csv\")\n",
    "len(squirrel_df)"
   ]
  },
  {
   "attachments": {},
   "cell_type": "markdown",
   "metadata": {},
   "source": [
    "### Understanding the dataset\n",
    "What are the columns? What are the data types? Are there null values?\n"
   ]
  },
  {
   "cell_type": "code",
   "execution_count": null,
   "metadata": {},
   "outputs": [],
   "source": [
    "squirrel_df.columns"
   ]
  },
  {
   "cell_type": "code",
   "execution_count": null,
   "metadata": {},
   "outputs": [],
   "source": [
    "squirrel_df.info()"
   ]
  },
  {
   "cell_type": "code",
   "execution_count": null,
   "metadata": {},
   "outputs": [],
   "source": [
    "squirrel_df[\"Hectare\"].unique()"
   ]
  },
  {
   "cell_type": "code",
   "execution_count": null,
   "metadata": {},
   "outputs": [],
   "source": [
    "squirrel_df[\"Primary Fur Color\"].unique()\n",
    "# squirrel_df[\"Highlight Fur Color\"].unique()\n",
    "# squirrel_df[\"Color notes\"].unique()"
   ]
  },
  {
   "cell_type": "code",
   "execution_count": null,
   "metadata": {},
   "outputs": [],
   "source": [
    "# in Java\n",
    "for i in range(150):\n",
    "    field = squirrel_df.iloc[i][\"Other Activities\"]\n",
    "    if field == field:\n",
    "        print(field)"
   ]
  },
  {
   "cell_type": "code",
   "execution_count": null,
   "metadata": {},
   "outputs": [],
   "source": [
    "# in Python\n",
    "squirrel_df[~squirrel_df[\"Other Interactions\"].isna()][\"Other Interactions\"]"
   ]
  },
  {
   "cell_type": "code",
   "execution_count": null,
   "metadata": {},
   "outputs": [],
   "source": [
    "i=0\n",
    "i+=20\n",
    "# squirrel_df[~squirrel_df[\"Other Activities\"].isna()][\"Other Activities\"].iloc[i:i+20]\n",
    "squirrel_df[~squirrel_df[\"Other Interactions\"].isna()][\"Other Interactions\"].iloc[i:i+20]"
   ]
  },
  {
   "attachments": {},
   "cell_type": "markdown",
   "metadata": {},
   "source": [
    "### Data Cleaning"
   ]
  },
  {
   "cell_type": "code",
   "execution_count": null,
   "metadata": {},
   "outputs": [],
   "source": [
    "# first, let's clean the notes so that we can separate words and numbers\n",
    "\n",
    "from cleantext.sklearn import CleanTransformer\n",
    "\n",
    "cleaner = CleanTransformer(no_punct=True,\n",
    "                           lower=True, \n",
    "                           no_emoji=True, \n",
    "                           no_line_breaks=True, \n",
    "                           no_urls=True, \n",
    "                           normalize_whitespace=True,\n",
    "                           to_ascii=False)"
   ]
  },
  {
   "cell_type": "code",
   "execution_count": null,
   "metadata": {},
   "outputs": [],
   "source": [
    "text_columns = [\"Other Activities\", \"Other Interactions\"]\n",
    "for col in text_columns:\n",
    "    new_col = f\"{col}_clean\"\n",
    "    squirrel_df[new_col] = cleaner.transform(squirrel_df[col].str.replace(\"-\", \" \").fillna(\"\"))"
   ]
  },
  {
   "cell_type": "code",
   "execution_count": null,
   "metadata": {},
   "outputs": [],
   "source": [
    "# 1332\n",
    "squirrel_df[\"Other Activities_clean\"].sample(10)"
   ]
  },
  {
   "cell_type": "code",
   "execution_count": null,
   "metadata": {},
   "outputs": [],
   "source": [
    "# Always clean dates\n",
    "squirrel_df[\"Date\"]"
   ]
  },
  {
   "cell_type": "code",
   "execution_count": null,
   "metadata": {},
   "outputs": [],
   "source": [
    "def easy_convert_date(orig):\n",
    "    orig = str(orig)\n",
    "    month = int(orig[0:2])\n",
    "    day = int(orig[2:4])\n",
    "    year = 2018\n",
    "    return datetime.date(year, month, day).strftime(\"%m/%d/%Y\")\n",
    "\n",
    "squirrel_df[\"date_string\"] = squirrel_df.Date.apply(easy_convert_date)"
   ]
  },
  {
   "cell_type": "code",
   "execution_count": null,
   "metadata": {},
   "outputs": [],
   "source": [
    "# squirrel_df[\"date_month\"] = squirrel_df[\"Date\"].apply(lambda x: int(str(x)[0:2]))\n",
    "# squirrel_df[\"date_day\"] = squirrel_df[\"Date\"].apply(lambda x: int(str(x)[2:4]))\n",
    "# squirrel_df[\"date_year\"] = 2018"
   ]
  },
  {
   "cell_type": "code",
   "execution_count": null,
   "metadata": {},
   "outputs": [],
   "source": [
    "print(squirrel_df.date_day.min())\n",
    "print(squirrel_df.date_day.max())"
   ]
  },
  {
   "cell_type": "code",
   "execution_count": null,
   "metadata": {},
   "outputs": [],
   "source": [
    "squirrel_df.date_string.sort_values().unique()"
   ]
  },
  {
   "cell_type": "code",
   "execution_count": null,
   "metadata": {},
   "outputs": [],
   "source": [
    "# text cleaning\n",
    "squirrel_df[\"Other Activities\"].sample(10)"
   ]
  },
  {
   "attachments": {},
   "cell_type": "markdown",
   "metadata": {},
   "source": [
    "### EDA"
   ]
  },
  {
   "cell_type": "code",
   "execution_count": null,
   "metadata": {},
   "outputs": [],
   "source": [
    "# How many squirrels per hectacre? \n",
    "# What activities are they engaging in?\n",
    "# What activities do they do together?\n",
    "# How often are they interacting with other squirrels?"
   ]
  },
  {
   "cell_type": "code",
   "execution_count": null,
   "metadata": {},
   "outputs": [],
   "source": [
    "import matplotlib.pyplot as plt\n",
    "import seaborn as sns"
   ]
  },
  {
   "cell_type": "code",
   "execution_count": null,
   "metadata": {},
   "outputs": [],
   "source": [
    "# squirrel_df.groupby(\"Hectare\").count()\n",
    "squirrel_df.groupby(\"Hectare\").count().sort_values(by=\"Hectare Squirrel Number\", ascending=False).X.plot(kind=\"hist\")"
   ]
  },
  {
   "cell_type": "code",
   "execution_count": null,
   "metadata": {},
   "outputs": [],
   "source": [
    "activities = squirrel_df.columns[15:20]\n",
    "sounds = squirrel_df.columns[21:24]\n",
    "tails = squirrel_df.columns[24:26]\n",
    "interactions = squirrel_df.columns[26:29]"
   ]
  },
  {
   "cell_type": "code",
   "execution_count": null,
   "metadata": {},
   "outputs": [],
   "source": [
    "print(activities)\n",
    "print(sounds)\n",
    "print(tails)\n",
    "print(interactions)"
   ]
  },
  {
   "cell_type": "code",
   "execution_count": null,
   "metadata": {},
   "outputs": [],
   "source": [
    "activity_counts = [len(squirrel_df[squirrel_df[col]]) for col in activities]\n",
    "df = pd.DataFrame({\"activity\": activities, \"counts\": activity_counts})\n",
    "df"
   ]
  },
  {
   "cell_type": "code",
   "execution_count": null,
   "metadata": {},
   "outputs": [],
   "source": [
    "# are there any activities frequently done together?\n",
    "all_cols = np.concatenate([activities, sounds, tails, interactions])"
   ]
  },
  {
   "cell_type": "code",
   "execution_count": null,
   "metadata": {},
   "outputs": [],
   "source": [
    "counts = [len(squirrel_df[squirrel_df[col]]) for col in all_cols]\n",
    "df = pd.DataFrame({\"action\": all_cols, \"counts\": counts})\n",
    "plot = plt.bar(x = df.action, height = df.counts)\n",
    "plt.bar_label(plot, counts)\n",
    "\n",
    "plt.xticks(all_cols, rotation=75)\n",
    "plt.xlabel(\"Action\")\n",
    "plt.ylabel(\"Number of Squirrels\")\n",
    "plt.title(\"Number of Squirrels doing each action\")"
   ]
  },
  {
   "cell_type": "code",
   "execution_count": null,
   "metadata": {},
   "outputs": [],
   "source": [
    "overlap_lists = []\n",
    "for i, col in enumerate(all_cols):\n",
    "    row_overlap = []\n",
    "    col_i = all_cols[i]\n",
    "    for j, col in enumerate(all_cols):\n",
    "        col_j = all_cols[j]\n",
    "        # val = len(squirrel_df[(squirrel_df[col_i] == True) & (squirrel_df[col_j] == True)])\n",
    "        val = len(squirrel_df[(squirrel_df[col_i] == True) & (squirrel_df[col_j] == True)]) / len(squirrel_df[(squirrel_df[col_i] == True)])\n",
    "        row_overlap.append(val)\n",
    "    overlap_lists.append(row_overlap)\n",
    "\n",
    "overlapdf = pd.DataFrame(overlap_lists, index=all_cols, columns=all_cols)\n",
    "overlapdf"
   ]
  },
  {
   "cell_type": "code",
   "execution_count": null,
   "metadata": {},
   "outputs": [],
   "source": [
    "plt.figure(figsize=(10,8))\n",
    "sns.heatmap(overlapdf, annot=True, linewidth=.5, cmap=\"crest\")\n",
    "# sns.heatmap(overlapdf, annot=True,linewidth=.5, cmap=\"crest\")"
   ]
  },
  {
   "cell_type": "code",
   "execution_count": null,
   "metadata": {},
   "outputs": [],
   "source": [
    "# cols = np.concatenate([interactions, tails])\n",
    "cols = np.concatenate([activities, interactions])\n",
    "overlap_lists = []\n",
    "for i, col in enumerate(cols):\n",
    "    row_overlap = []\n",
    "    col_i = all_cols[i]\n",
    "    for j, col in enumerate(cols):\n",
    "        col_j = all_cols[j]\n",
    "        # val = len(squirrel_df[(squirrel_df[col_i] == True) & (squirrel_df[col_j] == True)])\n",
    "        val = len(squirrel_df[(squirrel_df[col_i] == True) & (squirrel_df[col_j] == True)]) / len(squirrel_df[(squirrel_df[col_i] == True)])\n",
    "        row_overlap.append(val)\n",
    "    overlap_lists.append(row_overlap)\n",
    "\n",
    "overlapdf = pd.DataFrame(overlap_lists, index=cols, columns=cols)\n",
    "sns.heatmap(overlapdf, annot=True,linewidth=.5, cmap=\"crest\")"
   ]
  },
  {
   "cell_type": "code",
   "execution_count": null,
   "metadata": {},
   "outputs": [],
   "source": [
    "# how often to squirrels hang out with their friends?\n",
    "# squirrel_df[\"Other Activities\"].str.contains(\"\\d\").value_counts()\n",
    "# squirrel_df[squirrel_df[\"Other Interactions\"].str.contains(\"\\d\").fillna(False)][\"Other Interactions\"]\n",
    "# squirrel_df[squirrel_df[\"Other Activities\"].str.contains(\"\\d\").fillna(False)][\"Other Activities\"]\n",
    "num_hangouts = len(squirrel_df[squirrel_df[\"Other Activities\"].str.contains(\"\\d\").fillna(False)])\n",
    "percent_hangouts = round((num_hangouts / len(squirrel_df[~squirrel_df[\"Other Activities\"].isna()])), 2) *100\n",
    "print(f\"Squirrels hang out with other squirrels {percent_hangouts} % of the time\")"
   ]
  },
  {
   "attachments": {},
   "cell_type": "markdown",
   "metadata": {},
   "source": [
    "Findings: \n",
    "- Squirrels spend a lot of time running and foraging\n",
    "- When they are running away, they often climb trees\n",
    "- They interact with other humans, dogs, and squirrels\n",
    "- 19% of the squirrels with detailed interactions are chasing/playing with other squirrels"
   ]
  }
 ],
 "metadata": {
  "kernelspec": {
   "display_name": "Python 3",
   "language": "python",
   "name": "python3"
  },
  "language_info": {
   "codemirror_mode": {
    "name": "ipython",
    "version": 3
   },
   "file_extension": ".py",
   "mimetype": "text/x-python",
   "name": "python",
   "nbconvert_exporter": "python",
   "pygments_lexer": "ipython3",
   "version": "3.11.1"
  },
  "orig_nbformat": 4
 },
 "nbformat": 4,
 "nbformat_minor": 2
}
